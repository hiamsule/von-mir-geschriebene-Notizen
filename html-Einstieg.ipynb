#Beispiele für die Definition von Variablen in html

1-

MY_NAME="John"

echo "<html>
<head>
    <title> My First Web Server</title>
</head>
<body>
    <h1>Hello to Everyone from My First Web Server</h1>
    <p>My name is <b>$MY_NAME</b></p>
    <p>Welcome to my web page!</p>
</body>
</html>" > /var/www/html/index.html


2-

DATE_TIME=`date`

echo "<html>
<head>
    <title> My First Web Server</title>
</head>
<body>
    <h1>Hello to Everyone from My First Web Server</h1>
    <p>This instance is created at <b>$DATE_TIME</b></p>
</body>
</html>" > /var/www/html/index.html


3-

#!/bin/bash

# Anlık tarih ve saat bilgisini al.
DATE_TIME=`date`

# Kullanıcı adını al.
USER_NAME=`whoami`

# HTML degiskenini(variable) oluştur.

read -d '' HTML <<EOF
<html>
<head>
    <title>My First Web Server</title>
</head>
<body>
    <h1>Merhaba!</h1>
    <p>Şu anda tarih ve saat: <b>$DATE_TIME</b></p>
    <p>Kullanıcı adınız: <b>$USER_NAME</b></p>
</body>
</html>
EOF
# Bu betikteki read -d '' HTML komutu, EOF işaretleyicisi belirtilene kadar, 
# html belgesinin tamamını alır ve HTML değişkenine atar.

# HTML belgesini kaydet
# Degisken araciligiyla dosya olusturulup /var/www/html/index.html dizinine kaydedilir.
echo "$HTML" > /var/www/html/index.html
